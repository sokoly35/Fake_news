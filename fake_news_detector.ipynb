{
 "cells": [
  {
   "cell_type": "markdown",
   "metadata": {},
   "source": [
    "# Wstęp "
   ]
  },
  {
   "cell_type": "markdown",
   "metadata": {},
   "source": [
    "W dobie XXI wieku jesteśmy bombardowani infomacjami niemal z każdej strony. Mimo wielu, których jest dla nas ważnych, na których się znamy lub które nas dotyczą jest jeszcze więcej takich, z którymi nie mamy niemalże nic wspólnego. Z powodu tego nadmiaru informacji ludzie zatracili chęć do weryfikowania KAŻDEJ pozyskanej wiedzy. Jednakże, nie ma się co martwić, bo gdzie ludzki umysł napotyka problemy, to rozwiązaniem może stać się komputer. \n",
    "\n",
    "Zajmiemy się zbiorem danych zawierającym tytuły różnych tekstów wraz z ich treścią. Występują tu artykuły, reportaże jak idialogi, co oznacza, że tematyka jest mocno zróżnicowana. Oprócz tego dysponujemy kolumną 'Unnamed: 0', która identyfikuje poszczególne teksty. Zobaczmy co nas czeka w danym zbiorze danych. "
   ]
  },
  {
   "cell_type": "markdown",
   "metadata": {},
   "source": [
    "![ChessUrl](https://media.giphy.com/media/xUA7bfa2vnt2Yj8WQg/giphy.gif \"chess\")"
   ]
  },
  {
   "cell_type": "code",
   "execution_count": 1,
   "metadata": {},
   "outputs": [],
   "source": [
    "# import necessary libraries\n",
    "import pandas as pd\n",
    "import matplotlib.pyplot as plt\n",
    "import seaborn as sns\n",
    "from sklearn.linear_model import LogisticRegression\n",
    "from sklearn.feature_extraction.text import TfidfVectorizer, CountVectorizer\n",
    "from sklearn.model_selection import train_test_split, GridSearchCV\n",
    "from sklearn.ensemble import RandomForestClassifier\n",
    "from textstat import flesch_reading_ease, gunning_fog\n",
    "from sklearn.metrics import classification_report\n",
    "from sklearn.feature_extraction.text import CountVectorizer\n",
    "from collections import Counter\n",
    "from sklearn.preprocessing import RobustScaler\n",
    "import eli5\n",
    "import spacy\n",
    "nlp = spacy.load('en')\n",
    "\n",
    "import warnings\n",
    "warnings.filterwarnings('ignore')"
   ]
  },
  {
   "cell_type": "markdown",
   "metadata": {},
   "source": [
    "Wczytajmy nasz zbiór danych i rzućmy okiem na kilka pierwszych wierszy"
   ]
  },
  {
   "cell_type": "code",
   "execution_count": 2,
   "metadata": {},
   "outputs": [
    {
     "data": {
      "text/html": [
       "<div>\n",
       "<style scoped>\n",
       "    .dataframe tbody tr th:only-of-type {\n",
       "        vertical-align: middle;\n",
       "    }\n",
       "\n",
       "    .dataframe tbody tr th {\n",
       "        vertical-align: top;\n",
       "    }\n",
       "\n",
       "    .dataframe thead th {\n",
       "        text-align: right;\n",
       "    }\n",
       "</style>\n",
       "<table border=\"1\" class=\"dataframe\">\n",
       "  <thead>\n",
       "    <tr style=\"text-align: right;\">\n",
       "      <th></th>\n",
       "      <th>Unnamed: 0</th>\n",
       "      <th>title</th>\n",
       "      <th>text</th>\n",
       "      <th>label</th>\n",
       "    </tr>\n",
       "  </thead>\n",
       "  <tbody>\n",
       "    <tr>\n",
       "      <td>0</td>\n",
       "      <td>8476</td>\n",
       "      <td>You Can Smell Hillary’s Fear</td>\n",
       "      <td>Daniel Greenfield, a Shillman Journalism Fello...</td>\n",
       "      <td>FAKE</td>\n",
       "    </tr>\n",
       "    <tr>\n",
       "      <td>1</td>\n",
       "      <td>10294</td>\n",
       "      <td>Watch The Exact Moment Paul Ryan Committed Pol...</td>\n",
       "      <td>Google Pinterest Digg Linkedin Reddit Stumbleu...</td>\n",
       "      <td>FAKE</td>\n",
       "    </tr>\n",
       "    <tr>\n",
       "      <td>2</td>\n",
       "      <td>3608</td>\n",
       "      <td>Kerry to go to Paris in gesture of sympathy</td>\n",
       "      <td>U.S. Secretary of State John F. Kerry said Mon...</td>\n",
       "      <td>REAL</td>\n",
       "    </tr>\n",
       "    <tr>\n",
       "      <td>3</td>\n",
       "      <td>10142</td>\n",
       "      <td>Bernie supporters on Twitter erupt in anger ag...</td>\n",
       "      <td>— Kaydee King (@KaydeeKing) November 9, 2016 T...</td>\n",
       "      <td>FAKE</td>\n",
       "    </tr>\n",
       "    <tr>\n",
       "      <td>4</td>\n",
       "      <td>875</td>\n",
       "      <td>The Battle of New York: Why This Primary Matters</td>\n",
       "      <td>It's primary day in New York and front-runners...</td>\n",
       "      <td>REAL</td>\n",
       "    </tr>\n",
       "    <tr>\n",
       "      <td>5</td>\n",
       "      <td>6903</td>\n",
       "      <td>Tehran, USA</td>\n",
       "      <td>\\nI’m not an immigrant, but my grandparents ...</td>\n",
       "      <td>FAKE</td>\n",
       "    </tr>\n",
       "    <tr>\n",
       "      <td>6</td>\n",
       "      <td>7341</td>\n",
       "      <td>Girl Horrified At What She Watches Boyfriend D...</td>\n",
       "      <td>Share This Baylee Luciani (left), Screenshot o...</td>\n",
       "      <td>FAKE</td>\n",
       "    </tr>\n",
       "    <tr>\n",
       "      <td>7</td>\n",
       "      <td>95</td>\n",
       "      <td>‘Britain’s Schindler’ Dies at 106</td>\n",
       "      <td>A Czech stockbroker who saved more than 650 Je...</td>\n",
       "      <td>REAL</td>\n",
       "    </tr>\n",
       "    <tr>\n",
       "      <td>8</td>\n",
       "      <td>4869</td>\n",
       "      <td>Fact check: Trump and Clinton at the 'commande...</td>\n",
       "      <td>Hillary Clinton and Donald Trump made some ina...</td>\n",
       "      <td>REAL</td>\n",
       "    </tr>\n",
       "    <tr>\n",
       "      <td>9</td>\n",
       "      <td>2909</td>\n",
       "      <td>Iran reportedly makes new push for uranium con...</td>\n",
       "      <td>Iranian negotiators reportedly have made a las...</td>\n",
       "      <td>REAL</td>\n",
       "    </tr>\n",
       "  </tbody>\n",
       "</table>\n",
       "</div>"
      ],
      "text/plain": [
       "   Unnamed: 0                                              title  \\\n",
       "0        8476                       You Can Smell Hillary’s Fear   \n",
       "1       10294  Watch The Exact Moment Paul Ryan Committed Pol...   \n",
       "2        3608        Kerry to go to Paris in gesture of sympathy   \n",
       "3       10142  Bernie supporters on Twitter erupt in anger ag...   \n",
       "4         875   The Battle of New York: Why This Primary Matters   \n",
       "5        6903                                        Tehran, USA   \n",
       "6        7341  Girl Horrified At What She Watches Boyfriend D...   \n",
       "7          95                  ‘Britain’s Schindler’ Dies at 106   \n",
       "8        4869  Fact check: Trump and Clinton at the 'commande...   \n",
       "9        2909  Iran reportedly makes new push for uranium con...   \n",
       "\n",
       "                                                text label  \n",
       "0  Daniel Greenfield, a Shillman Journalism Fello...  FAKE  \n",
       "1  Google Pinterest Digg Linkedin Reddit Stumbleu...  FAKE  \n",
       "2  U.S. Secretary of State John F. Kerry said Mon...  REAL  \n",
       "3  — Kaydee King (@KaydeeKing) November 9, 2016 T...  FAKE  \n",
       "4  It's primary day in New York and front-runners...  REAL  \n",
       "5    \\nI’m not an immigrant, but my grandparents ...  FAKE  \n",
       "6  Share This Baylee Luciani (left), Screenshot o...  FAKE  \n",
       "7  A Czech stockbroker who saved more than 650 Je...  REAL  \n",
       "8  Hillary Clinton and Donald Trump made some ina...  REAL  \n",
       "9  Iranian negotiators reportedly have made a las...  REAL  "
      ]
     },
     "execution_count": 2,
     "metadata": {},
     "output_type": "execute_result"
    }
   ],
   "source": [
    "df = pd.read_csv('news/news.csv')\n",
    "df['label'] = df['label'].astype('category')\n",
    "df.head(10)"
   ]
  },
  {
   "cell_type": "markdown",
   "metadata": {},
   "source": [
    "Na wstępie warto zauważyć, że teksty są stosunkowo długie. Można skonfigurować ramki pandasa, aby wiersze wyświetlały całą swoją zawartość, ale są to treści na tyle rozwlekłe, że ramka stanie się mało przejrzysta. Warto na pierwszy rzut oka zauważyć, że teksty zawierają oznaczenia osób (pewnie tweety), daty, znaki specjalne jak i akapity. Rzućmy okiem jak prezentuje się kilka przykładowych tekstów."
   ]
  },
  {
   "cell_type": "code",
   "execution_count": 3,
   "metadata": {
    "scrolled": true
   },
   "outputs": [
    {
     "name": "stdout",
     "output_type": "stream",
     "text": [
      "— Kaydee King (@KaydeeKing) November 9, 2016 The lesson from tonight's Dem losses: Time for Democrats to start listening to the voters. Stop running the same establishment candidates. \n",
      "— People For Bernie (@People4Bernie) November 9, 2016 If Dems didn't want a tight race they shouldn't have worked against Bernie. \n",
      "— Walker Bragman (@WalkerBragman) November 9, 2016 \n",
      "New York Times columnist Paul Krugman, who was one of Hillary Clinton’s most outspoken surrogates during the contentious Democratic primary, blamed Clinton’s poor performance on Green Party candidate Jill Stein, who has so far received a negligible number of votes nationally, saying Stein was the Ralph Nader of 2016 in preventing a Clinton victory. The account @BerniesTeachers threw Krugman’s analysis back in his face. Your candidate was the issue. Take responsibility. https://t.co/KHyOuUSrFS \n",
      "— Teachers for Bernie (@BerniesTeachers) November 9, 2016 \n",
      "Ana Navarro, a Republican who recently endorsed Hillary Clinton, summed up the preposterous nature of the 2016 presidential election in this tweet: GOP nominated the only damn candidate who could lose to Hillary Clinton. Democrats nominated the only damn candidate who could lose to Trump \n",
      "— Ana Navarro (@ananavarro) November 9, 2016 \n",
      "Popular left-wing Facebook page The Other 98%, which was pro-Sanders during the primary, responded to Trump’s surge by simply posting a meme of Sanders’ face with the text “All this could’ve been avoided. Thanks for nothing, DNC!” The meme has been shared almost 15,000 times in less than an hour: \n",
      "Posted by The Other 98% on Tuesday, November 8, 2016 \n",
      "While Bernie Sanders endorsed Hillary Clinton just before the Democratic National Convention in July, many of his supporters remained adamant in their refusal to support the DNC-anointed candidate, pointing to WikiLeaks’ revelations that top officials at the DNC had been working behind the scenes to tip the scales in Clinton’s favor by coordinating with media figures to circulate anti-Sanders narratives. \n",
      "Rather than attribute a potential Trump presidency to the GOP nominee’s perceived popularity among voters, the closeness of this election could be credited to Hillary Clinton’s unfavorable ratings. According to RealClearPolitics, anywhere between 51 and 57 percent of voters had a negative opinion of the Democratic nominee. \n",
      "As of 11 PM Eastern, Florida, Michigan, Pennsylvania, and Wisconsin remain too close to call. Clinton has 197 electoral votes to Trump’s 187. \n",
      "\n",
      "Zach Cartwright is an activist and author from Richmond, Virginia. He enjoys writing about politics, government, and the media. Send him an email at [email protected]\n"
     ]
    }
   ],
   "source": [
    "print(df['text'][3])"
   ]
  },
  {
   "cell_type": "code",
   "execution_count": 4,
   "metadata": {
    "scrolled": true
   },
   "outputs": [
    {
     "name": "stdout",
     "output_type": "stream",
     "text": [
      "CEDAR RAPIDS, Iowa — “I had one of the most wonderful rallies of my entire career right here in 1992,” Bill Clinton said by way of opening to the crowd of more than 1,100 on Saturday night.\n",
      "\n",
      "Two days before the Iowa caucuses, Cedar Rapids tried to deliver that same old feeling to his wife, Hillary Clinton.\n",
      "\n",
      "In the crowd, one woman held a sign that said “227 years of men. It’s HER turn!\" Some carried signs and books. Others had traveled from as far as Missouri. They had waited hours, even after the fire marshal told them there was no more room inside the high school gymnasium.\n",
      "\n",
      "The restive crowd chanted slogans and buzzed with anticipation until finally Bill, Hillary and Chelsea Clinton all appeared on stage hand-in-hand, an hour behind schedule. As they roared, Hillary Clinton beamed.\n",
      "\n",
      "It has been a long slog in Iowa for the Clinton campaign, which has struggled mightily to shake the label that its supporters can’t muster the enthusiasm of its rival’s backers. As the caucuses near, and with the help of a former president, the energy level at her events are notably dialing up.\n",
      "\n",
      "\"He's a charismatic speaker,\" said Cigi Ross, 31. \"In general, I'd say he's a bigger draw for people.\"\n",
      "\n",
      "Monday night will put the campaign's months of their work to the test. Can the campaign’s organization bring out their supporters? Can the candidate energize voters?\n",
      "\n",
      "Clinton, who seemed to draw on the higher-than-usual energy, stood at the center of it all and delivered a confident closing statement.\n",
      "\n",
      "“What we need is a plan, and a commitment,” Clinton said at the top of her voice.\n",
      "\n",
      "“And me, yes, thank you,” Clinton finished.\n",
      "\n",
      "Eight years later, Clinton is in Iowa once again facing what could be a nail-biting conclusion of a hard-fought campaign. Clinton acknowledges that it isn’t just her campaign that has changed since her devastating loss here in her last run, she too has changed — and improved, she told CNN on Saturday.\n",
      "\n",
      "\"I think I am a different, and perhaps a better, candidate, so I hope that also shows,\" Clinton said in an interview with the network that morning.\n",
      "\n",
      "Days ago, Iowa seemed to be slipping from her grasp, but campaign aides are feeling more confident now. A slew of positive news, endorsements, and the latest poll from the Des Moines Register and Bloomberg News indicate the bleeding has at least slowed. That poll -- considered the gold standard in Iowa -- gave Clinton a slim lead over her rival Vermont Sen. Bernie Sanders.\n",
      "\n",
      "If Democrats are wary of political dynasties, they didn’t show it. Spotting someone in the audience carrying Chelsea Clinton's book, her father remarked: \"Thank you, young woman, for holding up her book.\"\n",
      "\n",
      "Bill Clinton, who has spent days crisscrossing the state on his wife's behalf, has settled easily into this role as booster-in-chief. He lays off the policy, leaving that to his wife. He focuses instead on what he knows \"about the job.\"\n",
      "\n",
      "“There are certain, almost intangible qualities that determine whether a president succeeds or not,” Clinton said, his voice raspy, even and low. \"You need a sticker. A sticker: someone who won’t quit on you.”\n",
      "\n",
      "\"She’s the best at that I’ve ever known,” he added.\n"
     ]
    }
   ],
   "source": [
    "print(df['text'][10])"
   ]
  },
  {
   "cell_type": "code",
   "execution_count": 5,
   "metadata": {
    "scrolled": true
   },
   "outputs": [
    {
     "name": "stdout",
     "output_type": "stream",
     "text": [
      "With little fanfare this fall, the New York developer who had planned to build an Islamic community center north of the World Trade Center announced that he would instead use the site for a 70-story tower of luxury condos.\n",
      "\n",
      "Those who had rallied in opposition to the building because of its religious affiliation back in 2010 were exultant. “The importance of the defeat of the Ground Zero Mosque cannot be overstated,” Pamela Geller, president of the American Freedom Defense Initiative, wrote on the website Breitbart in September. “The Ground Zero Mosque became a watershed issue in our effort to raise awareness of and ultimately halt and roll back the advance of Islamic law and Islamic supremacism in America.”\n",
      "\n",
      "It’s all well and good that so many Republicans have condemned Donald Trump’s reprehensible call for “a total and complete shutdown of Muslims entering the United States.” House Speaker Paul D. Ryan (Wis.) was particularly forceful, calling proper attention to the “many Muslims serving in our armed forces, dying for this country.”\n",
      "\n",
      "When he was president, George W. Bush honorably put a lid on right-wing Islamophobia. He regularly praised American Muslims and stressed that the United States needed Muslim allies to fight violent extremism. Once Bush was gone, restraint on his side of politics fell away.\n",
      "\n",
      "Thus, Trump’s embrace of a religious test for entry to our country did not come out of nowhere. On the contrary, it simply brought us to the bottom of a slippery slope created by the ongoing exploitation of anti-Muslim feeling for political purposes.\n",
      "\n",
      "You don’t have to reach far back in time to see why Trump figured he had the ideological space for his Muslim ban. Last month, it was Jeb Bush who introduced the idea of linking the rights of Syrian refugees to their religion. He said he was comfortable granting admission to “people like orphans and people who are clearly not going to be terrorists. Or Christians.” Asked how he’d determine who was Christian, he explained that “you can prove you’re a Christian.”\n",
      "\n",
      "Sen. Ted Cruz (Tex.) took a similar view, saying , “There is no meaningful risk of Christians committing acts of terror.”\n",
      "\n",
      "Trump took limits on Muslim access to our country to their logical — if un-American and odious — conclusion. Vice President Biden said that Trump was serving up “a very, very dangerous brew,” but the brew has been steeping for a long time. This is why the “Ground Zero Mosque” episode is so instructive.\n",
      "\n",
      "The demagoguery began with the labeling of the controversy itself. As PolitiFact pointed out, “the proposed mosque is not at or on Ground Zero. It does not directly abut it or overlook it.” It was “two long blocks” away. And while a mosque was part of the proposed cultural center, the plans also included “a swimming pool, gym and basketball court, a 500-seat auditorium, a restaurant and culinary school, a library and art studios.”\n",
      "\n",
      "This didn’t stop opponents from going over the top, and Newt Gingrich deserved some kind of award for the most incendiary comment of all. “Nazis,” he said, “don’t have the right to put up a sign next to the Holocaust museum in Washington.”\n",
      "\n",
      "When President Obama defended the right of developers to build the project, he was — surprise, surprise — accused of being out of touch, and Republicans were happy to make the Muslim center and Obama’s defense of religious rights an issue in the 2010 campaign.\n",
      "\n",
      "“I think it does speak to the lack of connection between the administration and Washington and folks inside the Beltway and mainstream America,” said Sen. John Cornyn (Tex.), who was then chairman of the committee in charge of electing Republicans to the Senate. Voters, he said, felt they were “being lectured to, not listened to.” Sound familiar?\n",
      "\n",
      "At the time, John Feehery, the veteran Republican strategist, put his finger on why Republicans were so eager to lambaste Obama’s response to the Ground Zero issue. “This will help drive turnout for the GOP base,” he said.\n",
      "\n",
      "The Republican establishment is now all upset with Trump, but he is simply the revenge of a Republican base that took its leaders’ pandering — on Islam and a host of other issues — seriously.\n",
      "\n",
      "You can’t be “just a little” intolerant of Muslims, any more than you can be “just a little” prejudiced against Catholics or Jews. Once the door to bigotry is opened, it is very hard to shut.\n",
      "\n",
      "Read more from E.J. Dionne’s archive, follow him on Twitter or subscribe to his updates on Facebook.\n"
     ]
    }
   ],
   "source": [
    "print(df['text'][20])"
   ]
  },
  {
   "cell_type": "markdown",
   "metadata": {},
   "source": [
    "# EDA"
   ]
  },
  {
   "cell_type": "markdown",
   "metadata": {},
   "source": [
    "Zawsze warto przejrzeć kilka przykładowych tekstów. Kto wie? Może będą w stanie naprowadzić na jakiś trop, coś co ułatwi algorytmowi klasyfikacje.\n",
    "\n",
    "Sprawdźmy, co więcej powiedzą nam statystyki numeryczne uzyskane z poszczególnych kolumn."
   ]
  },
  {
   "cell_type": "code",
   "execution_count": 3,
   "metadata": {},
   "outputs": [
    {
     "name": "stdout",
     "output_type": "stream",
     "text": [
      "<class 'pandas.core.frame.DataFrame'>\n",
      "RangeIndex: 6335 entries, 0 to 6334\n",
      "Data columns (total 4 columns):\n",
      "Unnamed: 0    6335 non-null int64\n",
      "title         6335 non-null object\n",
      "text          6335 non-null object\n",
      "label         6335 non-null category\n",
      "dtypes: category(1), int64(1), object(2)\n",
      "memory usage: 154.9+ KB\n"
     ]
    }
   ],
   "source": [
    "df.info()"
   ]
  },
  {
   "cell_type": "code",
   "execution_count": 4,
   "metadata": {},
   "outputs": [
    {
     "data": {
      "text/html": [
       "<div>\n",
       "<style scoped>\n",
       "    .dataframe tbody tr th:only-of-type {\n",
       "        vertical-align: middle;\n",
       "    }\n",
       "\n",
       "    .dataframe tbody tr th {\n",
       "        vertical-align: top;\n",
       "    }\n",
       "\n",
       "    .dataframe thead th {\n",
       "        text-align: right;\n",
       "    }\n",
       "</style>\n",
       "<table border=\"1\" class=\"dataframe\">\n",
       "  <thead>\n",
       "    <tr style=\"text-align: right;\">\n",
       "      <th></th>\n",
       "      <th>Unnamed: 0</th>\n",
       "    </tr>\n",
       "  </thead>\n",
       "  <tbody>\n",
       "    <tr>\n",
       "      <td>count</td>\n",
       "      <td>6335.000000</td>\n",
       "    </tr>\n",
       "    <tr>\n",
       "      <td>mean</td>\n",
       "      <td>5280.415627</td>\n",
       "    </tr>\n",
       "    <tr>\n",
       "      <td>std</td>\n",
       "      <td>3038.503953</td>\n",
       "    </tr>\n",
       "    <tr>\n",
       "      <td>min</td>\n",
       "      <td>2.000000</td>\n",
       "    </tr>\n",
       "    <tr>\n",
       "      <td>25%</td>\n",
       "      <td>2674.500000</td>\n",
       "    </tr>\n",
       "    <tr>\n",
       "      <td>50%</td>\n",
       "      <td>5271.000000</td>\n",
       "    </tr>\n",
       "    <tr>\n",
       "      <td>75%</td>\n",
       "      <td>7901.000000</td>\n",
       "    </tr>\n",
       "    <tr>\n",
       "      <td>max</td>\n",
       "      <td>10557.000000</td>\n",
       "    </tr>\n",
       "  </tbody>\n",
       "</table>\n",
       "</div>"
      ],
      "text/plain": [
       "         Unnamed: 0\n",
       "count   6335.000000\n",
       "mean    5280.415627\n",
       "std     3038.503953\n",
       "min        2.000000\n",
       "25%     2674.500000\n",
       "50%     5271.000000\n",
       "75%     7901.000000\n",
       "max    10557.000000"
      ]
     },
     "execution_count": 4,
     "metadata": {},
     "output_type": "execute_result"
    }
   ],
   "source": [
    "df.describe()"
   ]
  },
  {
   "cell_type": "code",
   "execution_count": 5,
   "metadata": {},
   "outputs": [
    {
     "data": {
      "text/plain": [
       "6335"
      ]
     },
     "execution_count": 5,
     "metadata": {},
     "output_type": "execute_result"
    }
   ],
   "source": [
    "len(df['Unnamed: 0'].unique())"
   ]
  },
  {
   "cell_type": "code",
   "execution_count": 6,
   "metadata": {},
   "outputs": [
    {
     "data": {
      "text/html": [
       "<div>\n",
       "<style scoped>\n",
       "    .dataframe tbody tr th:only-of-type {\n",
       "        vertical-align: middle;\n",
       "    }\n",
       "\n",
       "    .dataframe tbody tr th {\n",
       "        vertical-align: top;\n",
       "    }\n",
       "\n",
       "    .dataframe thead th {\n",
       "        text-align: right;\n",
       "    }\n",
       "</style>\n",
       "<table border=\"1\" class=\"dataframe\">\n",
       "  <thead>\n",
       "    <tr style=\"text-align: right;\">\n",
       "      <th></th>\n",
       "      <th>title</th>\n",
       "      <th>text</th>\n",
       "      <th>label</th>\n",
       "    </tr>\n",
       "  </thead>\n",
       "  <tbody>\n",
       "    <tr>\n",
       "      <td>count</td>\n",
       "      <td>6335</td>\n",
       "      <td>6335</td>\n",
       "      <td>6335</td>\n",
       "    </tr>\n",
       "    <tr>\n",
       "      <td>unique</td>\n",
       "      <td>6256</td>\n",
       "      <td>6060</td>\n",
       "      <td>2</td>\n",
       "    </tr>\n",
       "    <tr>\n",
       "      <td>top</td>\n",
       "      <td>OnPolitics | 's politics blog</td>\n",
       "      <td>Killing Obama administration rules, dismantlin...</td>\n",
       "      <td>REAL</td>\n",
       "    </tr>\n",
       "    <tr>\n",
       "      <td>freq</td>\n",
       "      <td>5</td>\n",
       "      <td>58</td>\n",
       "      <td>3171</td>\n",
       "    </tr>\n",
       "  </tbody>\n",
       "</table>\n",
       "</div>"
      ],
      "text/plain": [
       "                                title  \\\n",
       "count                            6335   \n",
       "unique                           6256   \n",
       "top     OnPolitics | 's politics blog   \n",
       "freq                                5   \n",
       "\n",
       "                                                     text label  \n",
       "count                                                6335  6335  \n",
       "unique                                               6060     2  \n",
       "top     Killing Obama administration rules, dismantlin...  REAL  \n",
       "freq                                                   58  3171  "
      ]
     },
     "execution_count": 6,
     "metadata": {},
     "output_type": "execute_result"
    }
   ],
   "source": [
    "df.describe(include=['O', 'category'])"
   ]
  },
  {
   "cell_type": "code",
   "execution_count": 7,
   "metadata": {},
   "outputs": [
    {
     "data": {
      "image/png": "[encoded data removed]",
      "text/plain": [
       "<Figure size 432x288 with 1 Axes>"
      ]
     },
     "metadata": {
      "needs_background": "light"
     },
     "output_type": "display_data"
    }
   ],
   "source": [
    "sns.countplot(x='label', data=df);"
   ]
  },
  {
   "cell_type": "code",
   "execution_count": 8,
   "metadata": {},
   "outputs": [
    {
     "data": {
      "text/plain": [
       "OnPolitics | 's politics blog                                                                         5\n",
       "Get Ready For Civil Unrest: Survey Finds That Most Americans Are Concerned About Election Violence    3\n",
       "Michael Moore Owes Me $4.99                                                                           3\n",
       "Hillary’s “Big Tent” is Obama’s “Grand Bargain” on Steroids                                           3\n",
       "Senate GOP prepared to replace Obamacare subsidies                                                    2\n",
       "Name: title, dtype: int64"
      ]
     },
     "execution_count": 8,
     "metadata": {},
     "output_type": "execute_result"
    }
   ],
   "source": [
    "df['title'].value_counts()[:5]"
   ]
  },
  {
   "cell_type": "code",
   "execution_count": 9,
   "metadata": {},
   "outputs": [
    {
     "data": {
      "text/html": [
       "<div>\n",
       "<style scoped>\n",
       "    .dataframe tbody tr th:only-of-type {\n",
       "        vertical-align: middle;\n",
       "    }\n",
       "\n",
       "    .dataframe tbody tr th {\n",
       "        vertical-align: top;\n",
       "    }\n",
       "\n",
       "    .dataframe thead th {\n",
       "        text-align: right;\n",
       "    }\n",
       "</style>\n",
       "<table border=\"1\" class=\"dataframe\">\n",
       "  <thead>\n",
       "    <tr style=\"text-align: right;\">\n",
       "      <th></th>\n",
       "      <th>Unnamed: 0</th>\n",
       "      <th>title</th>\n",
       "      <th>text</th>\n",
       "      <th>label</th>\n",
       "    </tr>\n",
       "  </thead>\n",
       "  <tbody>\n",
       "    <tr>\n",
       "      <td>664</td>\n",
       "      <td>1951</td>\n",
       "      <td>OnPolitics | 's politics blog</td>\n",
       "      <td>What you need to know about the election recou...</td>\n",
       "      <td>REAL</td>\n",
       "    </tr>\n",
       "    <tr>\n",
       "      <td>1643</td>\n",
       "      <td>4337</td>\n",
       "      <td>OnPolitics | 's politics blog</td>\n",
       "      <td>Who has Trump picked for his Cabinet so far?\\n...</td>\n",
       "      <td>REAL</td>\n",
       "    </tr>\n",
       "    <tr>\n",
       "      <td>2072</td>\n",
       "      <td>1672</td>\n",
       "      <td>OnPolitics | 's politics blog</td>\n",
       "      <td>Who has Trump appointed to his cabinet so far?...</td>\n",
       "      <td>REAL</td>\n",
       "    </tr>\n",
       "    <tr>\n",
       "      <td>3301</td>\n",
       "      <td>1762</td>\n",
       "      <td>OnPolitics | 's politics blog</td>\n",
       "      <td>Who has Trump appointed to his cabinet so far?...</td>\n",
       "      <td>REAL</td>\n",
       "    </tr>\n",
       "    <tr>\n",
       "      <td>5127</td>\n",
       "      <td>2271</td>\n",
       "      <td>OnPolitics | 's politics blog</td>\n",
       "      <td>Who has Trump appointed to his cabinet so far?...</td>\n",
       "      <td>REAL</td>\n",
       "    </tr>\n",
       "  </tbody>\n",
       "</table>\n",
       "</div>"
      ],
      "text/plain": [
       "      Unnamed: 0                          title  \\\n",
       "664         1951  OnPolitics | 's politics blog   \n",
       "1643        4337  OnPolitics | 's politics blog   \n",
       "2072        1672  OnPolitics | 's politics blog   \n",
       "3301        1762  OnPolitics | 's politics blog   \n",
       "5127        2271  OnPolitics | 's politics blog   \n",
       "\n",
       "                                                   text label  \n",
       "664   What you need to know about the election recou...  REAL  \n",
       "1643  Who has Trump picked for his Cabinet so far?\\n...  REAL  \n",
       "2072  Who has Trump appointed to his cabinet so far?...  REAL  \n",
       "3301  Who has Trump appointed to his cabinet so far?...  REAL  \n",
       "5127  Who has Trump appointed to his cabinet so far?...  REAL  "
      ]
     },
     "execution_count": 9,
     "metadata": {},
     "output_type": "execute_result"
    }
   ],
   "source": [
    "df[df['title']==\"OnPolitics | 's politics blog\"]"
   ]
  },
  {
   "cell_type": "code",
   "execution_count": 10,
   "metadata": {},
   "outputs": [
    {
     "data": {
      "text/plain": [
       "Killing Obama administration rules, dismantling Obamacare and pushing through tax reform are on the early to-do list.    58\n",
       "                                                                                                                         36\n",
       "A verdict in 2017 could have sweeping consequences for tech startups.                                                    23\n",
       "Name: text, dtype: int64"
      ]
     },
     "execution_count": 10,
     "metadata": {},
     "output_type": "execute_result"
    }
   ],
   "source": [
    "df['text'].value_counts()[:3]"
   ]
  },
  {
   "cell_type": "markdown",
   "metadata": {},
   "source": [
    "Z kilku powyższych kroków można wysnuć następujące wnioski:\n",
    "- Mamy 6335 obserwacji, z czego jedną kolumne numeryczną, 2 tekstowe i jedną kategoryczną.\n",
    "- Identyfikatory z kolumny numerycznej są unikalne i pochodzą z przedziału od 2 do 10557. Czyli rozstęp jest większy niż nasza liczba rekordów. Ciekawe jak ta informacja zostanie zinterpretowana przez model.\n",
    "- Nasz zbiór danych jest dobrze zbalansowany, mamy bardzo podobną ilość informacji prawdziwych jak i fake news'ów. Oszczędza nam to problemów z samplowaniem zbioru. \n",
    "- Co zaskakujące jak na tak mały zbiór danych pojawiły się tytuły, które się powtarzają. Zawartość tekstu przy nich jednak nieznacznie się różni, lecz wygląda na to, że tematyka nie ulega zmianie. Najwidoczniej wiadomość musiała być dość popularna lub osoba tworząca zbiór danych mogła popełnić błąd. W każdym razie nie napotykamy dwuznaczności, gdyż wszystkie próbki są tak samo skategoryzowane jako prawdziwe.\n",
    "- Bardzo ważnym spostrzeżeniem jest występowanie wartości zerowych, w postaci pustych tekstów w kolumnie 'text'. Mogłyby narobić niemałe problemy przy tworzeniu dodatkowych cech dlatego na wstępie warto się nimi jakoś zająć."
   ]
  },
  {
   "cell_type": "markdown",
   "metadata": {},
   "source": [
    "#  Preprocessing"
   ]
  },
  {
   "cell_type": "markdown",
   "metadata": {},
   "source": [
    "Usuniemy na początku wartości brakujące zastępując je stringiem a. Decyduje się na takie rozwiązanie, ponieważ będę w przyszłości dążył do utworzenia cech numerycznych bazusjąc na stringach, natomiast wstawienie samej spacji generowałoby w przyszłości powstatnie wartości NaN. Przygotujmy nasze dane dzieląc je na zbiór testowy i treningowy. Jest to bardzo ważny krok, który powie nam w jaki sposób nasz model zachowa się wobec danych, z którymi jeszcze nie miał styczności. "
   ]
  },
  {
   "cell_type": "code",
   "execution_count": 66,
   "metadata": {},
   "outputs": [
    {
     "data": {
      "text/plain": [
       "Killing Obama administration rules, dismantling Obamacare and pushing through tax reform are on the early to-do list.    58\n",
       "0                                                                                                                        36\n",
       "A verdict in 2017 could have sweeping consequences for tech startups.                                                    23\n",
       "Name: text, dtype: int64"
      ]
     },
     "execution_count": 66,
     "metadata": {},
     "output_type": "execute_result"
    }
   ],
   "source": [
    "df['text'] = df['text'].str.strip()\n",
    "df['text'][df['text']==''] = 'a'\n",
    "df['text'].value_counts()[:3]"
   ]
  },
  {
   "cell_type": "code",
   "execution_count": 67,
   "metadata": {},
   "outputs": [],
   "source": [
    "X_train_try, X_test_try, y_train_try, y_test_try = train_test_split(df['text'], df['label'], random_state=42)"
   ]
  },
  {
   "cell_type": "markdown",
   "metadata": {},
   "source": [
    "Zanim jeszcze nasze palce zaczną płonąć od tworzenia cech z naszych danych, rzućmy okiem jak tak naprawdę zachowa się przykładowy model wobec danych po ich krótkiej obróbce. Otrzymamy wtedy obraz na czym tak naprawdę stoimy i ile jeszcze pracy przed nami.\n",
    "\n",
    "Przykładowo wykorzystamy Tfidf (ang. Tf - term frequency, idf - inverse document frequency). Jest to operacja wykorzystująca częstotliwość słów w tekście, przez która przydziela odpowiednim słowom tagi. Przypisywana jest tym większa waga im częściej wyraz występuje w jak najmniejszej ilości artykułów. Oznacza to, że słowa z wysoką wagą należą do języka specjalistycznego występującego w tekstach o małej popularności. Odwrotnie się ma sprawa ze słowami o małej wadze. Występują rzadko w tekście, natomiast pojawiają się niemal w każdej próbce. Z matematycznego punktu widzenia opisuje to równanie:\n",
    "\n",
    "$$w_{i,j} = tf_{i,j} \\cdot \\log{(\\frac{N}{df_i})}$$\n",
    "\n",
    "$w_{i,j}$ - waga $i$-tego słowa w $j$-tym dokumencie <br>\n",
    "$tf_{i,j}$- liczba pojawień się słowa $i$ w $j$-tym dokumencie<br>\n",
    "$df_i$ - liczba dokumentów zawierających słowo $i$<br>\n",
    "$N$ - liczba dokumentów<br>\n",
    "Skorzystamy z wbudowanej funkcji modelu sklearn TfidfVectorizer, która na wstępie konwertuje wszystkie wyrazy tekstu na małe litery. Natomiast flaga stop_words usuwa wyrażenia stopujące, tzw. łączniki, nie zaś słowa kluczowe.<br>\n",
    "O ile operacja jest łatwa w implemetacji to znaczącą wadą metody jest wielkość macierzy, która w jej wyniku powstaje. Kolejnym problemem są słowa, które występują w zbiorze testowym, lecz nie pojawiają się w procesie uczenia. Z tego powodu tracimy część informacji, która mogłaby mieć kluczowe znaczenie dla wyniku predykcji modelu. Zobaczmy jaki wynik uzyskamy po przekształceniu kolumny 'text' funkcją Tfidfvectorizer"
   ]
  },
  {
   "cell_type": "code",
   "execution_count": 68,
   "metadata": {},
   "outputs": [
    {
     "data": {
      "text/plain": [
       "(4751, 62680)"
      ]
     },
     "execution_count": 68,
     "metadata": {},
     "output_type": "execute_result"
    }
   ],
   "source": [
    "vectorizer = TfidfVectorizer(stop_words='english', strip_accents='ascii')\n",
    "X_train_tf_try = vectorizer.fit_transform(X_train_try)\n",
    "X_test_tf_try = vectorizer.transform(X_test_try)\n",
    "X_train_tf_try.shape"
   ]
  },
  {
   "cell_type": "markdown",
   "metadata": {},
   "source": [
    "Jak widzimy uzyskaliśmy nieco powyżej 62 tysięcy cech i to wyłącznie z przekształcenia jednej kolumny. Ta liczba urosłaby do jeszcze większej gdybyśmy przekształcili kolumne zawierającą tytuły dokumentów. Wykorzystajmy model regresji logistycznej do naszego zagadnienia klasyfikacji."
   ]
  },
  {
   "cell_type": "code",
   "execution_count": 69,
   "metadata": {},
   "outputs": [
    {
     "data": {
      "text/plain": [
       "0.9204545454545454"
      ]
     },
     "execution_count": 69,
     "metadata": {},
     "output_type": "execute_result"
    }
   ],
   "source": [
    "lr = LogisticRegression(random_state=42)\n",
    "lr.fit(X_train_tf_try, y_train_try)\n",
    "lr.score(X_test_tf_try, y_test_try)"
   ]
  },
  {
   "cell_type": "markdown",
   "metadata": {},
   "source": [
    "Wynik jest zadziwiająco wysoki jak na tak proste przygotowanie do ewaluacji- accuracy na poziomie 92%. Zobaczmy jak zachowa się nasz model po tunowaniu i wykorzystaniu sprawdzianu krzyżowego. "
   ]
  },
  {
   "cell_type": "code",
   "execution_count": 143,
   "metadata": {},
   "outputs": [
    {
     "name": "stdout",
     "output_type": "stream",
     "text": [
      "Fitting 5 folds for each of 80 candidates, totalling 400 fits\n"
     ]
    },
    {
     "name": "stderr",
     "output_type": "stream",
     "text": [
      "[Parallel(n_jobs=-1)]: Using backend LokyBackend with 8 concurrent workers.\n",
      "[Parallel(n_jobs=-1)]: Done  52 tasks      | elapsed:    0.8s\n",
      "[Parallel(n_jobs=-1)]: Done 298 tasks      | elapsed:   18.4s\n",
      "[Parallel(n_jobs=-1)]: Done 400 out of 400 | elapsed:   35.0s finished\n"
     ]
    },
    {
     "data": {
      "text/plain": [
       "0.9393939393939394"
      ]
     },
     "execution_count": 143,
     "metadata": {},
     "output_type": "execute_result"
    }
   ],
   "source": [
    "param_dict1 = {'penalty' : ['l1', 'l2'],\n",
    "               'C' : np.logspace(-10, 10, 40),\n",
    "               'solver' : ['liblinear']},\n",
    "\n",
    "model1 = GridSearchCV(LogisticRegression(random_state=42), param_grid=param_dict1, cv = 5, verbose=True, n_jobs=-1)\n",
    "model1.fit(X_train_tf_try, y_train_try)\n",
    "model1.score(X_test_tf_try, y_test_try)"
   ]
  },
  {
   "cell_type": "code",
   "execution_count": 144,
   "metadata": {},
   "outputs": [
    {
     "data": {
      "text/plain": [
       "{'C': 19.144819761699537, 'penalty': 'l2', 'solver': 'liblinear'}"
      ]
     },
     "execution_count": 144,
     "metadata": {},
     "output_type": "execute_result"
    }
   ],
   "source": [
    "model1.best_params_"
   ]
  },
  {
   "cell_type": "markdown",
   "metadata": {},
   "source": [
    "Tym oto sposobem otrzymujemy bardzo wysoki wynik na poziomie dokładności 94%. Niektórych ten wynik mógłby już zadowolić, ale sprawdźmy czy jesteśmy w stanie wycisnąć coś więcej z naszych danych. Może nawet poprzez dodanie odpowiednich cech będziemy mogli zoptymalizować nasze rozwiązanie. \n",
    "\n",
    "Klasycznie zaczniemy od dodania kolumn zawierających podstawowe cechy numeryczne takie jak długość tekstu, średnia długość słowa w tekście itd. Ponadto wyliczmy współcznniki Flescha i Gunninga, mówiące o tym jak skomplikowany dany tekst jest."
   ]
  },
  {
   "cell_type": "code",
   "execution_count": 72,
   "metadata": {},
   "outputs": [],
   "source": [
    "X_train, X_test, y_train, y_test = train_test_split(df.iloc[:, 0:3], df['label'], random_state=42)"
   ]
  },
  {
   "cell_type": "code",
   "execution_count": 73,
   "metadata": {},
   "outputs": [],
   "source": [
    "# length of text\n",
    "X_train['text_len'] = X_train['text'].apply(len)\n",
    "X_test['text_len'] = X_test['text'].apply(len)\n",
    "X_train['title_len'] = X_train['title'].apply(len)\n",
    "X_test['title_len'] = X_test['title'].apply(len)"
   ]
  },
  {
   "cell_type": "code",
   "execution_count": 74,
   "metadata": {},
   "outputs": [],
   "source": [
    "# Amount of words\n",
    "X_train['title_word_count']  = X_train['title'].str.split().apply(len)\n",
    "X_test['title_word_count']  = X_test['title'].str.split().apply(len)\n",
    "X_train['text_word_count']  = X_train['text'].str.split().apply(len)\n",
    "X_test['text_word_count']  = X_test['text'].str.split().apply(len)"
   ]
  },
  {
   "cell_type": "code",
   "execution_count": 75,
   "metadata": {},
   "outputs": [],
   "source": [
    "#Amount of unique words\n",
    "X_train['title_u_word_count']  = X_train['title'].str.split().apply(lambda x: len(set(x)))\n",
    "X_test['title_u_word_count']  = X_test['title'].str.split().apply(lambda x: len(set(x)))\n",
    "X_train['text_u_word_count']  = X_train['text'].str.split().apply(lambda x: len(set(x)))\n",
    "X_test['text_u_word_count']  = X_test['text'].str.split().apply(lambda x: len(set(x)))"
   ]
  },
  {
   "cell_type": "code",
   "execution_count": 76,
   "metadata": {},
   "outputs": [],
   "source": [
    "# Average length of word\n",
    "def avg_len_word(df):\n",
    "    list_of_length = [len(word) for word in df]\n",
    "    return np.mean(list_of_length)\n",
    "\n",
    "X_train['title_avg_len_word'] = X_train['title'].str.split().apply(avg_len_word)\n",
    "X_test['title_avg_len_word'] = X_test['title'].str.split().apply(avg_len_word)\n",
    "X_train['text_avg_len_word'] = X_train['text'].str.split().apply(avg_len_word)\n",
    "X_test['text_avg_len_word'] = X_test['text'].str.split().apply(avg_len_word)"
   ]
  },
  {
   "cell_type": "code",
   "execution_count": 77,
   "metadata": {},
   "outputs": [],
   "source": [
    "# Flesch reading ease score and Gunning fog index\n",
    "def reading_ease_score(df, score):\n",
    "    dict_of_scores = Textatistic(df).scores\n",
    "    return dict_of_scores[score]\n",
    "\n",
    "X_train['title_flesch_score'] = X_train['title'].apply(lambda row: flesch_reading_ease(row))\n",
    "X_test['title_flesch_score'] = X_test['title'].apply(lambda row: flesch_reading_ease(row))\n",
    "X_train['text_flesch_score'] = X_train['text'].apply(lambda row: flesch_reading_ease(row))\n",
    "X_test['text_flesch_score'] = X_test['text'].apply(lambda row: flesch_reading_ease(row))\n",
    "\n",
    "X_train['title_gunning_score'] = X_train['title'].apply(lambda row: gunning_fog(row))\n",
    "X_test['title_gunning_score'] = X_test['title'].apply(lambda row: gunning_fog(row))\n",
    "X_train['text_gunning_score'] = X_train['text'].apply(lambda row: gunning_fog(row))\n",
    "X_test['text_gunning_score'] = X_test['text'].apply(lambda row: gunning_fog(row))"
   ]
  },
  {
   "cell_type": "markdown",
   "metadata": {},
   "source": [
    "Trenując model często ważne jest dla nas, aby nasze kolumny były niezależne, albo chociażby nieskorelowane ze sobą. Zobaczmy na macierzy korelacji jak nasze kolumny zależą od siebie."
   ]
  },
  {
   "cell_type": "code",
   "execution_count": 78,
   "metadata": {},
   "outputs": [
    {
     "data": {
      "image/png": "[encoded data removed]",
      "text/plain": [
       "<Figure size 720x720 with 2 Axes>"
      ]
     },
     "metadata": {
      "needs_background": "light"
     },
     "output_type": "display_data"
    }
   ],
   "source": [
    "corr = X_train.corr()\n",
    "fig, ax = plt.subplots(figsize=(10,10))\n",
    "sns.heatmap(corr, annot=True, ax=ax);"
   ]
  },
  {
   "cell_type": "markdown",
   "metadata": {},
   "source": [
    "Widzimy, że w ewidentny sposób kolumny z długością zarówno tekstu jak i tytułów są skorelowane z odpowiadającymi im kolumnami z ilością słów. Poza tym, współczynnik Flescha jest liniowo zależny od współczynnika Gunninga. Pozbędziemy się po jednej z poszczególnych kolumn, żeby nie pogorszyły wyników naszego modelu."
   ]
  },
  {
   "cell_type": "code",
   "execution_count": 79,
   "metadata": {},
   "outputs": [],
   "source": [
    "drop_columns = ['title_word_count', 'text_word_count', 'text_u_word_count', 'title_u_word_count', 'text_flesch_score',\n",
    "                'title_flesch_score']"
   ]
  },
  {
   "cell_type": "code",
   "execution_count": 80,
   "metadata": {},
   "outputs": [],
   "source": [
    "X_train = X_train.drop(columns=drop_columns)\n",
    "X_test = X_test.drop(columns=drop_columns)"
   ]
  },
  {
   "cell_type": "markdown",
   "metadata": {},
   "source": [
    "Od razu lepiej. Można by się jeszcze zastanowić nad zależnością pomiędzy średnią długością słowa, a współczynnikiem Gunninga, ale podjąłem decyzję, że obie zostaną."
   ]
  },
  {
   "cell_type": "code",
   "execution_count": 133,
   "metadata": {},
   "outputs": [
    {
     "data": {
      "image/png": "[encoded data removed]",
      "text/plain": [
       "<Figure size 720x720 with 2 Axes>"
      ]
     },
     "metadata": {
      "needs_background": "light"
     },
     "output_type": "display_data"
    }
   ],
   "source": [
    "corr = X_train.corr()\n",
    "fig, ax = plt.subplots(figsize=(10,10))\n",
    "sns.heatmap(corr, annot=True, ax=ax);"
   ]
  },
  {
   "cell_type": "markdown",
   "metadata": {},
   "source": [
    "Nie wykorzystując tym razem algorytmu TF-IDF, lecz bazując na cechach do tej pory posiadanych lub utworzonych zobaczmy jak zachowa się model lasów losowych i regresji logistycznej. Wielkim zdziwieniem był dla mnie fakt, że jesteśmy w stanie ocenić czy dany tekst jest fake news'em czy nie ze 100% dokładnością, bazując tylko na 6 cechach."
   ]
  },
  {
   "cell_type": "code",
   "execution_count": null,
   "metadata": {},
   "outputs": [],
   "source": [
    "param_dict2 = {'C' : np.logspace(-10, 10, 40)}\n",
    "\n",
    "model2 = GridSearchCV(LogisticRegression(random_state=42), param_grid=param_dict2, cv = 5, n_jobs=-1)\n",
    "model2.fit(X_train.loc[:, ~X_train.columns.isin(['text', 'title'])], y_train)\n",
    "model2.score(X_test.loc[:, ~X_test.columns.isin(['text', 'title'])], y_test)"
   ]
  },
  {
   "cell_type": "code",
   "execution_count": 85,
   "metadata": {},
   "outputs": [
    {
     "data": {
      "text/plain": [
       "1.0"
      ]
     },
     "execution_count": 85,
     "metadata": {},
     "output_type": "execute_result"
    }
   ],
   "source": [
    "rf = RandomForestClassifier(n_estimators=100, max_depth=20, random_state=42)\n",
    "\n",
    "rf.fit(X_train.loc[:, ~X_train.columns.isin(['text', 'title'])], y_train)\n",
    "rf.score(X_test.loc[:, ~X_test.columns.isin(['text', 'title'])], y_test)"
   ]
  },
  {
   "cell_type": "code",
   "execution_count": 86,
   "metadata": {},
   "outputs": [],
   "source": [
    "feature_list = ['Unnamed: 0', 'text_len', 'title_len',\n",
    "       'title_avg_len_word', 'text_avg_len_word', 'title_gunning_score',\n",
    "       'text_gunning_score']"
   ]
  },
  {
   "cell_type": "code",
   "execution_count": 87,
   "metadata": {},
   "outputs": [
    {
     "data": {
      "text/html": [
       "\n",
       "    <style>\n",
       "    table.eli5-weights tr:hover {\n",
       "        filter: brightness(85%);\n",
       "    }\n",
       "</style>\n",
       "\n",
       "\n",
       "\n",
       "    \n",
       "\n",
       "    \n",
       "\n",
       "    \n",
       "\n",
       "    \n",
       "\n",
       "    \n",
       "\n",
       "    \n",
       "\n",
       "\n",
       "    \n",
       "\n",
       "    \n",
       "\n",
       "    \n",
       "\n",
       "    \n",
       "\n",
       "    \n",
       "\n",
       "    \n",
       "\n",
       "\n",
       "    \n",
       "\n",
       "    \n",
       "\n",
       "    \n",
       "\n",
       "    \n",
       "\n",
       "    \n",
       "        <table class=\"eli5-weights eli5-feature-importances\" style=\"border-collapse: collapse; border: none; margin-top: 0em; table-layout: auto;\">\n",
       "    <thead>\n",
       "    <tr style=\"border: none;\">\n",
       "        <th style=\"padding: 0 1em 0 0.5em; text-align: right; border: none;\">Weight</th>\n",
       "        <th style=\"padding: 0 0.5em 0 0.5em; text-align: left; border: none;\">Feature</th>\n",
       "    </tr>\n",
       "    </thead>\n",
       "    <tbody>\n",
       "    \n",
       "        <tr style=\"background-color: hsl(120, 100.00%, 80.00%); border: none;\">\n",
       "            <td style=\"padding: 0 1em 0 0.5em; text-align: right; border: none;\">\n",
       "                0.8895\n",
       "                \n",
       "                    &plusmn; 0.2009\n",
       "                \n",
       "            </td>\n",
       "            <td style=\"padding: 0 0.5em 0 0.5em; text-align: left; border: none;\">\n",
       "                Unnamed: 0\n",
       "            </td>\n",
       "        </tr>\n",
       "    \n",
       "        <tr style=\"background-color: hsl(120, 100.00%, 97.27%); border: none;\">\n",
       "            <td style=\"padding: 0 1em 0 0.5em; text-align: right; border: none;\">\n",
       "                0.0517\n",
       "                \n",
       "                    &plusmn; 0.1033\n",
       "                \n",
       "            </td>\n",
       "            <td style=\"padding: 0 0.5em 0 0.5em; text-align: left; border: none;\">\n",
       "                text_len\n",
       "            </td>\n",
       "        </tr>\n",
       "    \n",
       "        <tr style=\"background-color: hsl(120, 100.00%, 98.49%); border: none;\">\n",
       "            <td style=\"padding: 0 1em 0 0.5em; text-align: right; border: none;\">\n",
       "                0.0222\n",
       "                \n",
       "                    &plusmn; 0.0521\n",
       "                \n",
       "            </td>\n",
       "            <td style=\"padding: 0 0.5em 0 0.5em; text-align: left; border: none;\">\n",
       "                text_gunning_score\n",
       "            </td>\n",
       "        </tr>\n",
       "    \n",
       "        <tr style=\"background-color: hsl(120, 100.00%, 98.73%); border: none;\">\n",
       "            <td style=\"padding: 0 1em 0 0.5em; text-align: right; border: none;\">\n",
       "                0.0174\n",
       "                \n",
       "                    &plusmn; 0.0393\n",
       "                \n",
       "            </td>\n",
       "            <td style=\"padding: 0 0.5em 0 0.5em; text-align: left; border: none;\">\n",
       "                title_len\n",
       "            </td>\n",
       "        </tr>\n",
       "    \n",
       "        <tr style=\"background-color: hsl(120, 100.00%, 99.03%); border: none;\">\n",
       "            <td style=\"padding: 0 1em 0 0.5em; text-align: right; border: none;\">\n",
       "                0.0117\n",
       "                \n",
       "                    &plusmn; 0.0306\n",
       "                \n",
       "            </td>\n",
       "            <td style=\"padding: 0 0.5em 0 0.5em; text-align: left; border: none;\">\n",
       "                text_avg_len_word\n",
       "            </td>\n",
       "        </tr>\n",
       "    \n",
       "        <tr style=\"background-color: hsl(120, 100.00%, 99.56%); border: none;\">\n",
       "            <td style=\"padding: 0 1em 0 0.5em; text-align: right; border: none;\">\n",
       "                0.0038\n",
       "                \n",
       "                    &plusmn; 0.0117\n",
       "                \n",
       "            </td>\n",
       "            <td style=\"padding: 0 0.5em 0 0.5em; text-align: left; border: none;\">\n",
       "                title_avg_len_word\n",
       "            </td>\n",
       "        </tr>\n",
       "    \n",
       "        <tr style=\"background-color: hsl(120, 100.00%, 99.57%); border: none;\">\n",
       "            <td style=\"padding: 0 1em 0 0.5em; text-align: right; border: none;\">\n",
       "                0.0037\n",
       "                \n",
       "                    &plusmn; 0.0117\n",
       "                \n",
       "            </td>\n",
       "            <td style=\"padding: 0 0.5em 0 0.5em; text-align: left; border: none;\">\n",
       "                title_gunning_score\n",
       "            </td>\n",
       "        </tr>\n",
       "    \n",
       "    \n",
       "    </tbody>\n",
       "</table>\n",
       "    \n",
       "\n",
       "    \n",
       "\n",
       "\n",
       "    \n",
       "\n",
       "    \n",
       "\n",
       "    \n",
       "\n",
       "    \n",
       "\n",
       "    \n",
       "\n",
       "    \n",
       "\n",
       "\n",
       "\n"
      ],
      "text/plain": [
       "<IPython.core.display.HTML object>"
      ]
     },
     "execution_count": 87,
     "metadata": {},
     "output_type": "execute_result"
    }
   ],
   "source": [
    "eli5.show_weights(rf, feature_names=feature_list)"
   ]
  },
  {
   "cell_type": "markdown",
   "metadata": {},
   "source": [
    "Jak widać, tak spektakularny wynik zawdzięczamy tajemniczej kolumnie 'Unnamed: 0'. Źródło danych nie podaje szczegółowych informacji odnośnie pochodzenia tej cechy. Skoro jednak została ona dostarczona, to nie ma powodu, dla którego nie powinno się z niej skorzystać. \n",
    "\n",
    "Rozpatrzmy jednak jeszcze przypadek, gdy nie jesteśmy w tak dobrej sytuacji, a jedynym co jest do nas dostarczone, jest surowy tekst."
   ]
  },
  {
   "cell_type": "markdown",
   "metadata": {},
   "source": [
    "# Ewaluacja bez wykorzystania Unnamed: 0 "
   ]
  },
  {
   "cell_type": "markdown",
   "metadata": {},
   "source": [
    "Jak widzimy bez naszego tajemniczego identyfikatora wyniki znacząco się pogorszyły. Ciekawi mnie co takiego musiał w sobie kryć. Pamiętamy oczywiście, że była to cechy unikalna dla każdego rekordu."
   ]
  },
  {
   "cell_type": "code",
   "execution_count": 90,
   "metadata": {},
   "outputs": [
    {
     "data": {
      "text/plain": [
       "0.6553030303030303"
      ]
     },
     "execution_count": 90,
     "metadata": {},
     "output_type": "execute_result"
    }
   ],
   "source": [
    "model2 = GridSearchCV(LogisticRegression(random_state=42), param_grid=param_dict2, cv = 5, n_jobs=-1)\n",
    "model2.fit(X_train.loc[:, ~X_train.columns.isin(['text', 'title', 'Unnamed: 0'])], y_train)\n",
    "model2.score(X_test.loc[:, ~X_test.columns.isin(['text', 'title', 'Unnamed: 0'])], y_test)"
   ]
  },
  {
   "cell_type": "code",
   "execution_count": 91,
   "metadata": {},
   "outputs": [
    {
     "data": {
      "text/plain": [
       "0.7430555555555556"
      ]
     },
     "execution_count": 91,
     "metadata": {},
     "output_type": "execute_result"
    }
   ],
   "source": [
    "rf = RandomForestClassifier(n_estimators=100, max_depth=20, random_state=42)\n",
    "rf.fit(X_train.loc[:, ~X_train.columns.isin(['text', 'title', 'Unnamed: 0'])], y_train)\n",
    "rf.score(X_test.loc[:, ~X_test.columns.isin(['text', 'title', 'Unnamed: 0'])], y_test)"
   ]
  },
  {
   "cell_type": "markdown",
   "metadata": {},
   "source": [
    "Na poniższym wykresie zauważamy, że w naszych danych mamy doczynienia z wartościami odstającymi. Warto rozpatrzyć dwa podejścia:\n",
    "- Przeskalowanie danych za pomocą IQR\n",
    "- Zbadanie wartości odstających i zdecydowanie czy nie lepszym rozwiązaniem byłoby je usunąć"
   ]
  },
  {
   "cell_type": "code",
   "execution_count": 93,
   "metadata": {},
   "outputs": [
    {
     "data": {
      "image/png": "[encoded data removed]",
      "text/plain": [
       "<Figure size 720x720 with 1 Axes>"
      ]
     },
     "metadata": {
      "needs_background": "light"
     },
     "output_type": "display_data"
    }
   ],
   "source": [
    "fig, ax = plt.subplots(figsize=(10,10))\n",
    "sns.scatterplot(data=X_train, y=\"text_len\", x=\"text_avg_len_word\", size='text_gunning_score', ax=ax);"
   ]
  },
  {
   "cell_type": "markdown",
   "metadata": {},
   "source": [
    "###  Przeskalowanie danych"
   ]
  },
  {
   "cell_type": "markdown",
   "metadata": {},
   "source": [
    "Niestety, przeskalowanie danych nie poprawiło znacząco sytuacji..."
   ]
  },
  {
   "cell_type": "code",
   "execution_count": 134,
   "metadata": {},
   "outputs": [
    {
     "data": {
      "text/plain": [
       "0.6426767676767676"
      ]
     },
     "execution_count": 134,
     "metadata": {},
     "output_type": "execute_result"
    }
   ],
   "source": [
    "m_train = X_train.loc[:, ~X_train.columns.isin(['text', 'title', 'Unnamed: 0'])]\n",
    "m_test =X_test.loc[:, ~X_test.columns.isin(['text', 'title', 'Unnamed: 0'])]\n",
    "\n",
    "m_train_scalled = transformer.fit_transform(m_train)\n",
    "m_test_scalled = transformer.transform(m_test)\n",
    "\n",
    "model3 = GridSearchCV(LogisticRegression(random_state=42), param_grid=param_dict2, cv = 5, n_jobs=-1)\n",
    "model3.fit(m_train_scalled, y_train)\n",
    "model3.score(m_test_scalled, y_test)"
   ]
  },
  {
   "cell_type": "markdown",
   "metadata": {},
   "source": [
    "###  Zlokalizowanie wartości odstających"
   ]
  },
  {
   "cell_type": "markdown",
   "metadata": {},
   "source": [
    "Z naszego scatterplota można zauwazyć, że wartości odstające występują, gdy np. średnia długość słowa jest dłuższa niż 10. Przyjrzyjmy się owym rekordom."
   ]
  },
  {
   "cell_type": "code",
   "execution_count": 138,
   "metadata": {},
   "outputs": [
    {
     "data": {
      "text/plain": [
       "Int64Index([229, 3058, 5716, 4983, 2767, 1627, 3984, 5035, 1165, 2060, 4107], dtype='int64')"
      ]
     },
     "execution_count": 138,
     "metadata": {},
     "output_type": "execute_result"
    }
   ],
   "source": [
    "m_train[m_train.text_avg_len_word > 10].index"
   ]
  },
  {
   "cell_type": "code",
   "execution_count": 139,
   "metadata": {},
   "outputs": [
    {
     "data": {
      "text/plain": [
       "'We Are Change \\nIn this video Luke Rudkowski covers more geopolitical moves and how the recent presidential election with Hillary Clinton is making the situation with Putin worse. The situation between these two super global powers is intensifying and becoming dangerous for both nations. As wikileaks keeps releasing more information the more pressure the DNC is putting against Russia instead of taking responsibility. For more invest in us on https://www.patreon.com/wearechange \\nSources\\nhttps://www.youtube.com/watch?v=4mt_z… \\nhttp://www.cnn.com/videos/politics/20… \\nhttp://www.inquisitr.com/3225440/hill… \\nhttp://wearechange.org/putins-russian… \\nhttp://www.mirror.co.uk/tech/russia-t… \\nhttp://www.mintpressnews.com/wife-fbi… \\nhttp://www.breitbart.com/2016-preside… \\nhttps://twitter.com/wikileaks/status/… \\nhttps://twitter.com/Lukewearechange/s… \\nhttp://www.reuters.com/article/us-usa… \\nhttp://www.mirror.co.uk/news/world-ne… \\nhttp://www.zerohedge.com/news/2016-10… \\nhttps://www.rt.com/news/364132-amnest… \\nhttp://www.commondreams.org/news/2016… \\nhttps://www.welt.de/politik/ausland/a… \\nhttp://time.com/4547219/nato-uk-us-tr… \\nhttp://www.mirror.co.uk/news/uk-news/… \\nhttp://edition.cnn.com/2016/10/27/eur… \\nhttp://www.zerohedge.com/news/2016-10… \\nhttp://www.bbc.com/news/world-europe-… \\nhttp://www.wsj.com/articles/russia-fl… \\nhttp://www.express.co.uk/news/world/7… \\nSupport WeAreChange by Subscribing to our channel HERE http://www.youtube.com/subscription_c… \\nVisit our main site for more breaking news http://wearechange.org/ \\nPatreon https://www.patreon.com/WeAreChange?a… \\nSnapChat: LukeWeAreChange\\nFacebook: https://facebook.com/LukeWeAreChange \\nTwitter: https://twitter.com/Lukewearechange \\nInstagram: http://instagram.com/lukewearechange \\nRep WeAreChange Merch Proudly: http://wearechange.org/store \\nOH YEAH since we are not corporate or government WHORES help us out http://wearechange.org/donate \\nWe take BITCOIN too\\n12HdLgeeuA87t2JU8m4tbRo247Yj5u2TVP\\nThe post PUTIN’S LATEST ATTACK AGAINST HILLARY CLINTON AND THE U.S ESTABLISHMENT appeared first on We Are Change .'"
      ]
     },
     "execution_count": 139,
     "metadata": {},
     "output_type": "execute_result"
    }
   ],
   "source": [
    "X_train.text[3058]"
   ]
  },
  {
   "cell_type": "code",
   "execution_count": 140,
   "metadata": {},
   "outputs": [
    {
     "data": {
      "text/plain": [
       "\"How to contact WikiLeaks? What is Tor? Tips for Sources After Submitting \\nThis key's fingerprint is A04C 5E09 ED02 B328 03EB 6116 93ED 732E 9231 8DBA BEGIN PGP PUBLIC KEY BLOCK mQQNBFUoCGgBIADFLp+QonWyK8L6SPsNrnhwgfCxCk6OUHRIHReAsgAUXegpfg0b rsoHbeI5W9s5to/MUGwULHj59M6AvT+DS5rmrThgrND8Dt0dO+XW88bmTXHsFg9K jgf1wUpTLq73iWnSBo1m1Z14BmvkROG6M7+vQneCXBFOyFZxWdUSQ15vdzjr4yPR oMZjxCIFxe+QL+pNpkXd/St2b6UxiKB9HT9CXaezXrjbRgIzCeV6a5TFfcnhncpO ve59rGK3/az7cmjd6cOFo1Iw0J63TGBxDmDTZ0H3ecQvwDnzQSbgepiqbx4VoNmH OxpInVNv3AAluIJqN7RbPeWrkohh3EQ1j+lnYGMhBktX0gAyyYSrkAEKmaP6Kk4j /ZNkniw5iqMBY+v/yKW4LCmtLfe32kYs5OdreUpSv5zWvgL9sZ+4962YNKtnaBK3 1hztlJ+xwhqalOCeUYgc0Clbkw+sgqFVnmw5lP4/fQNGxqCO7Tdy6pswmBZlOkmH XXfti6hasVCjT1MhemI7KwOmz/KzZqRlzgg5ibCzftt2GBcV3a1+i357YB5/3wXE j0vkd+SzFioqdq5Ppr+//IK3WX0jzWS3N5Lxw31q8fqfWZyKJPFbAvHlJ5ez7wKA 1iS9krDfnysv0BUHf8elizydmsrPWN944Flw1tOFjW46j4uAxSbRBp284wiFmV8N TeQjBI8Ku8NtRDleriV3djATCg2SSNsDhNxSlOnPTM5U1bmh+Ehk8eHE3hgn9lRp 2kkpwafD9pXaqNWJMpD4Amk60L3N+yUrbFWERwncrk3DpGmdzge/tl/UBldPoOeK p3shjXMdpSIqlwlB47Xdml3Cd8HkUz8r05xqJ4DutzT00ouP49W4jqjWU9bTuM48 LRhrOpjvp5uPu0aIyt4BZgpce5QGLwXONTRX+bsTyEFEN3EO6XLeLFJb2jhddj7O DmluDPN9aj639E4vjGZ90Vpz4HpN7JULSzsnk+ZkEf2XnliRody3SwqyREjrEBui 9ktbd0hAeahKuwia0zHyo5+1BjXt3UHiM5fQN93GB0hkXaKUarZ99d7XciTzFtye /MWToGTYJq9bM/qWAGO1RmYgNr+gSF/fQBzHeSbRN5tbJKz6oG4NuGCRJGB2aeXW TIp/VdouS5I9jFLapzaQUvtdmpaeslIos7gY6TZxWO06Q7AaINgr+SBUvvrff/Nl l2PRPYYye35MDs0b+mI5IXpjUuBC+s59gI6YlPqOHXkKFNbI3VxuYB0VJJIrGqIu Fv2CXwy5HvR3eIOZ2jLAfsHmTEJhriPJ1sUG0qlfNOQGMIGw9jSiy/iQde1u3ZoF so7sXlmBLck9zRMEWRJoI/mgCDEpWqLX7hTTABEBAAG0x1dpa2lMZWFrcyBFZGl0 b3JpYWwgT2ZmaWNlIEhpZ2ggU2VjdXJpdHkgQ29tbXVuaWNhdGlvbiBLZXkgKFlv dSBjYW4gY29udGFjdCBXaWtpTGVha3MgYXQgaHR0cDovL3dsY2hhdGMzcGp3cGxp NXIub25pb24gYW5kIGh0dHBzOi8vd2lraWxlYWtzLm9yZy90YWxrKSA8Y29udGFj dC11cy11c2luZy1vdXItY2hhdC1zeXN0ZW1Ad2lraWxlYWtzLm9yZz6JBD0EEwEK ACcCGwMFCwkIBwMFFQoJCAsFFgIDAQACHgECF4AFAlb6cdIFCQOznOoACgkQk+1z LpIxjbrlqh/7B2yBrryWhQMGFj+xr9TIj32vgUIMohq94XYqAjOnYdEGhb5u5B5p BNowcqdFB1SOEvX7MhxGAqYocMT7zz2AkG3kpf9f7gOAG7qA1sRiB+R7mZtUr9Kv fQSsRFPb6RNzqqB9I9wPNGhBh1YWusUPluLINwbjTMnHXeL96HgdLT+fIBa8ROmn 0fjJVoWYHG8QtsKiZ+lo2m/J4HyuJanAYPgL6isSu/1bBSwhEIehlQIfXZuS3j35 12SsO1Zj2BBdgUIrADdMAMLneTs7oc1/PwxWYQ4OTdkay2deg1g/N6YqM2N7rn1W 7A6tmuH7dfMlhcqw8bf5veyag3RpKHGcm7utDB6k/bMBDMnKazUnM2VQoi1mutHj kTCWn/vF1RVz3XbcPH94gbKxcuBi8cjXmSWNZxEBsbirj/CNmsM32Ikm+WIhBvi3 1mWvcArC3JSUon8RRXype4ESpwEQZd6zsrbhgH4UqF56pcFT2ubnqKu4wtgOECsw K0dHyNEiOM1lL919wWDXH9tuQXWTzGsUznktw0cJbBVY1dGxVtGZJDPqEGatvmiR o+UmLKWyxTScBm5o3zRm3iyU10d4gka0dxsSQMl1BRD3G6b+NvnBEsV/+KCjxqLU vhDNup1AsJ1OhyqPydj5uyiWZCxlXWQPk4p5WWrGZdBDduxiZ2FTj17hu8S4a5A4 lpTSoZ/nVjUUl7EfvhQCd5G0hneryhwqclVfAhg0xqUUi2nHWg19npPkwZM7Me/3 +ey7svRUqxVTKbXffSOkJTMLUWqZWc087hL98X5rfi1E6CpBO0zmHeJgZva+PEQ/ ZKKi8oTzHZ8NNlf1qOfGAPitaEn/HpKGBsDBtE2te8PF1v8LBCea/d5+Umh0GELh 5eTq4j3eJPQrTN1znyzpBYkR19/D/Jr5j4Vuow5wEE28JJX1TPi6VBMevx1oHBuG qsvHNuaDdZ4F6IJTm1ZYBVWQhLbcTginCtv1sadct4Hmx6hklAwQN6VVa7GLOvnY RYfPR2QA3fGJSUOg8xq9HqVDvmQtmP02p2XklGOyvvfQxCKhLqKi0hV9xYUyu5dk 2L/A8gzA0+GIN+IYPMsf3G7aDu0qgGpi5Cy9xYdJWWW0DA5JRJc4/FBSN7xBNsW4 eOMxl8PITUs9GhOcc68Pvwyv4vvTZObpUjZANLquk7t8joky4Tyog29KYSdhQhne oVODrdhTqTPn7rjvnwGyjLInV2g3pKw/Vsrd6xKogmE8XOeR8Oqk6nun+Y588Nsj XddctWndZ32dvkjrouUAC9z2t6VE36LSyYJUZcC2nTg6Uir+KUTs/9RHfrvFsdI7 iMucdGjHYlKc4+YwTdMivI1NPUKo/5lnCbkEDQRVKAhoASAAvnuOR+xLqgQ6KSOO RTkhMTYCiHbEsPmrTfNA9VIip+3OIzByNYtfFvOWY2zBh3H2pgf+2CCrWw3WqeaY wAp9zQb//rEmhwJwtkW/KXDQr1k95D5gzPeCK9R0yMPfjDI5nLeSvj00nFF+gjPo Y9Qb10jp/Llqy1z35Ub9ZXuA8ML9nidkE26KjG8FvWIzW8zTTYA5Ezc7U+8HqGZH VsK5KjIO2GOnJiMIly9MdhawS2IXhHTV54FhvZPKdyZUQTxkwH2/8QbBIBv0OnFY 3w75Pamy52nAzI7uOPOU12QIwVj4raLC+DIOhy7bYf9pEJfRtKoor0RyLnYZTT3N 0H4AT2YeTra17uxeTnI02lS2Jeg0mtY45jRCU7MrZsrpcbQ464I+F411+AxI3NG3 cFNJOJO2HUMTa+2PLWa3cERYM6ByP60362co7cpZoCHyhSvGppZyH0qeX+BU1oyn 5XhT+m7hA4zupWAdeKbOaLPdzMu2Jp1/QVao5GQ8kdSt0n5fqrRopO1WJ/S1eoz+ Ydy3dCEYK+2zKsZ3XeSC7MMpGrzanh4pk1DLr/NMsM5L5eeVsAIBlaJGs75Mp+kr ClQL/oxiD4XhmJ7MlZ9+5d/o8maV2K2pelDcfcW58tHm3rHwhmNDxh+0t5++i30y BIa3gYHtZrVZ3yFstp2Ao8FtXe/1ALvwE4BRalkh+ZavIFcqRpiF+YvNZ0JJF52V rwL1gsSGPsUY6vsVzhpEnoA+cJGzxlor5uQQmEoZmfxgoXKfRC69si0ReoFtfWYK 8Wu9sVQZW1dU6PgBB30X/b0Sw8hEzS0cpymyBXy8g+itdi0NicEeWHFKEsXa+HT7 mjQrMS7c84Hzx7ZOH6TpX2hkdl8Nc4vrjF4iff1+sUXj8xDqedrg29TseHCtnCVF kfRBvdH2CKAkbgi9Xiv4RqAP9vjOtdYnj7CIG9uccek/iu/bCt1y/MyoMU3tqmSJ c8QeA1L+HENQ/HsiErFGug+Q4Q1SuakHSHqBLS4TKuC+KO7tSwXwHFlFp47GicHe rnM4v4rdgKic0Z6lR3QpwoT9KwzOoyzyNlnM9wwnalCLwPcGKpjVPFg1t6F+eQUw WVewkizhF1sZBbED5O/+tgwPaD26KCNuofdVM+oIzVPOqQXWbaCXisNYXoktH3Tb 0X/DjsIeN4TVruxKGy5QXrvo969AQNx8Yb82BWvSYhJaXX4bhbK0pBIT9fq08d5R IiaN7/nFU3vavXa+ouesiD0cnXSFVIRiPETCKl45VM+f3rRHtNmfdWVodyXJ1O6T ZjQTB9ILcfcb6XkvH+liuUIppINu5P6i2CqzRLAvbHGunjvKLGLfvIlvMH1mDqxp VGvNPwARAQABiQQlBBgBCgAPAhsMBQJW+nHeBQkDs5z2AAoJEJPtcy6SMY26Qtgf /0tXRbwVOBzZ4fI5NKSW6k5A6cXzbB3JUxTHMDIZ93CbY8GvRqiYpzhaJVjNt2+9 zFHBHSfdbZBRKX8N9h1+ihxByvHncrTwiQ9zFi0FsrJYk9z/F+iwmqedyLyxhIEm SHtWiPg6AdUM5pLu8GR7tRHagz8eGiwVar8pZo82xhowIjpiQr0Bc2mIAusRs+9L jc+gjwjbhYIg2r2r9BUBGuERU1A0IB5Fx+IomRtcfVcL/JXSmXqXnO8+/aPwpBuk bw8sAivSbBlEu87P9OovsuEKxh/PJ65duQNjC+2YxlVcF03QFlFLGzZFN7Fcv5JW lYNeCOOz9NP9TTsR2EAZnacNk75/FYwJSJnSblCBre9xVA9pI5hxb4zu7CxRXuWc QJs8Qrvdo9k4Jilx5U9X0dsiNH2swsTM6T1gyVKKQhf5XVCS4bPWYagXcfD9/xZE eAhkFcAuJ9xz6XacT9j1pw50MEwZbwDneV93TqvHmgmSIFZow1aU5ACp+N/ksT6E 1wrWsaIJjsOHK5RZj/8/2HiBftjXscmL3K8k6MbDI8P9zvcMJSXbPpcYrffw9A6t ka9skmLKKFCcsNJ0coLLB+mw9DVQGc2dPWPhPgtYZLwG5tInS2bkdv67qJ4lYsRM jRCW5xzlUZYk6SWD4KKbBQoHbNO0Au8Pe/N1SpYYtpdhFht9fGmtEHNOGPXYgNLq VTLgRFk44Dr4hJj5I1+d0BLjVkf6U8b2bN5PcOnVH4Mb+xaGQjqqufAMD/IFO4Ro TjwKiw49pJYUiZbw9UGaV3wmg+fue9To1VKxGJuLIGhRXhw6ujGnk/CktIkidRd3 5pAoY5L4ISnZD8Z0mnGlWOgLmQ3IgNjAyUzVJRhDB5rVQeC6qX4r4E1xjYMJSxdz Aqrk25Y//eAkdkeiTWqbXDMkdQtig2rY+v8GGeV0v09NKiT+6extebxTaWH4hAgU FR6yq6FHs8mSEKC6Cw6lqKxOn6pwqVuXmR4wzpqCoaajQVz1hOgD+8QuuKVCcTb1 4IXXpeQBc3EHfXJx2BWbUpyCgBOMtvtjDhLtv5p+4XN55GqY+ocYgAhNMSK34AYD AhqQTpgHAX0nZ2SpxfLr/LDN24kXCmnFipqgtE6tstKNiKwAZdQBzJJlyYVpSk93 6HrYTZiBDJk4jDBh6jAx+IZCiv0rLXBM6QxQWBzbc2AxDDBqNbea2toBSww8HvHf hQV/G86Zis/rDOSqLT7e794ezD9RYPv55525zeCk3IKauaW5+WqbKlwosAPIMW2S kFODIRd5oMI51eof+ElmB5V5T9lw0CHdltSM/hmYmp/5YotSyHUmk91GDFgkOFUc J3x7gtxUMkTadELqwY6hrU8= =BLTH\""
      ]
     },
     "execution_count": 140,
     "metadata": {},
     "output_type": "execute_result"
    }
   ],
   "source": [
    "X_train.text[2060]"
   ]
  },
  {
   "cell_type": "markdown",
   "metadata": {},
   "source": [
    "I wszystko jasne. Teksty zawierały niezwykle długie linki, które znacząco zawyżały statystyki. Myślę, że zachowywanie ich nie poprawi działania modelu. Analogiczna sytuacja dotyczy tekstów, których długość wynosi ponad 40000 znaków. Dlatego po prostu usuniemy te rekordt. Pamiętając, że musimy usunąć odpowiednie im targety."
   ]
  },
  {
   "cell_type": "code",
   "execution_count": 141,
   "metadata": {},
   "outputs": [],
   "source": [
    "indexes1 = m_train[m_train.text_len > 40000].index\n",
    "indexes2 = m_train[m_train.text_avg_len_word > 10].index\n",
    "indexes = np.unique(indexes1.append(indexes2))\n",
    "m_train = m_train.drop(indexes, axis=0)\n",
    "m_y_train = y_train.drop(indexes, axis=0)"
   ]
  },
  {
   "cell_type": "markdown",
   "metadata": {},
   "source": [
    "Wykres prezentuje się już dużo lepiej, przypomina wręcz gęstość rozkłądu normalnego :D"
   ]
  },
  {
   "cell_type": "code",
   "execution_count": 146,
   "metadata": {},
   "outputs": [
    {
     "data": {
      "image/png": "[encoded data removed]",
      "text/plain": [
       "<Figure size 720x720 with 1 Axes>"
      ]
     },
     "metadata": {
      "needs_background": "light"
     },
     "output_type": "display_data"
    }
   ],
   "source": [
    "fig, ax = plt.subplots(figsize=(10,10))\n",
    "sns.scatterplot(data=m_train, y=\"text_len\", x=\"text_avg_len_word\", size='text_gunning_score', ax=ax);"
   ]
  },
  {
   "cell_type": "markdown",
   "metadata": {},
   "source": [
    "Niestety nie spowodowało to znacznego zwiększenia dokładności modelu, ale również go nie pogorszyła."
   ]
  },
  {
   "cell_type": "code",
   "execution_count": 142,
   "metadata": {},
   "outputs": [
    {
     "data": {
      "text/plain": [
       "0.6616161616161617"
      ]
     },
     "execution_count": 142,
     "metadata": {},
     "output_type": "execute_result"
    }
   ],
   "source": [
    "model4 = GridSearchCV(LogisticRegression(random_state=42), param_grid=param_dict2, cv = 5, n_jobs=-1)\n",
    "model4.fit(m_train, m_y_train)\n",
    "model4.score(m_test, y_test)"
   ]
  },
  {
   "cell_type": "markdown",
   "metadata": {},
   "source": [
    "## Tokenizacja i Lemmatyzacja"
   ]
  },
  {
   "cell_type": "markdown",
   "metadata": {},
   "source": [
    "Będziemy teraz operować na danych, które zostały stokenizowane, tzn.  słowa jak i znaki z tekstu zostały przeksztacone do listy. Również tzw. skrótowce czyli np. \"Don't\" zostały przekształcone na [\"Do\", \"n't\"].\n",
    "\n",
    "Następnym krokiem była lemmatyzacja tzn. pozbywanie się słów pochodnych i pozostawianie słowa bazowego, np. z ciągu reducing, reduced, reduces, reduction pozostaję wyłącznie baza czyli reduce. Dodajmy odpowiednie kolumny"
   ]
  },
  {
   "cell_type": "code",
   "execution_count": 107,
   "metadata": {},
   "outputs": [],
   "source": [
    "M_train = X_train.drop(indexes, axis=0)\n",
    "M_y_train = y_train.drop(indexes, axis=0)\n",
    "M_test = X_test.copy()"
   ]
  },
  {
   "cell_type": "code",
   "execution_count": 108,
   "metadata": {},
   "outputs": [],
   "source": [
    "def lemmatization(df):\n",
    "    doc = nlp(df)\n",
    "    return ' '.join([token.lemma_ for token in doc])\n",
    "M_train['text_lemma'] = M_train.text.apply(lambda row:lemmatization(row))\n",
    "M_train['title_lemma'] = M_train.title.apply(lambda row:lemmatization(row))\n",
    "M_test['text_lemma'] = M_test.text.apply(lambda row:lemmatization(row))\n",
    "M_test['title_lemma'] = M_test.title.apply(lambda row:lemmatization(row))"
   ]
  },
  {
   "cell_type": "markdown",
   "metadata": {},
   "source": [
    "Ponownie użyjemy tym razem algorytmu TF-IDF. Tym razem zauważmy jak zastosowanie lemmatyzacji znacząco zmniejszyło ilość nowych cech z 62 tysięcy do niepełnych 49 tysięcy."
   ]
  },
  {
   "cell_type": "code",
   "execution_count": 109,
   "metadata": {},
   "outputs": [
    {
     "data": {
      "text/plain": [
       "(4728, 48755)"
      ]
     },
     "execution_count": 109,
     "metadata": {},
     "output_type": "execute_result"
    }
   ],
   "source": [
    "vectorizer_lemma = TfidfVectorizer(stop_words='english')\n",
    "M_train_text = vectorizer_lemma.fit_transform(M_train['text_lemma'])\n",
    "M_test_text = vectorizer_lemma.transform(M_test['text_lemma'])\n",
    "M_train_text.shape"
   ]
  },
  {
   "cell_type": "markdown",
   "metadata": {},
   "source": [
    "Otrzymujemy podobny wynik do tego uzyskanego jeszcze przed procesem lemmatyzacji, lecz plusem jest znaczna redukcja wymiaru macierzy wejściowej."
   ]
  },
  {
   "cell_type": "code",
   "execution_count": 110,
   "metadata": {},
   "outputs": [
    {
     "name": "stdout",
     "output_type": "stream",
     "text": [
      "Fitting 5 folds for each of 50 candidates, totalling 250 fits\n"
     ]
    },
    {
     "name": "stderr",
     "output_type": "stream",
     "text": [
      "[Parallel(n_jobs=-1)]: Using backend LokyBackend with 8 concurrent workers.\n",
      "[Parallel(n_jobs=-1)]: Done  34 tasks      | elapsed:    8.2s\n",
      "[Parallel(n_jobs=-1)]: Done 184 tasks      | elapsed:   38.3s\n",
      "[Parallel(n_jobs=-1)]: Done 250 out of 250 | elapsed:   52.0s finished\n"
     ]
    },
    {
     "name": "stdout",
     "output_type": "stream",
     "text": [
      "0.9337121212121212\n"
     ]
    },
    {
     "data": {
      "text/plain": [
       "{'C': 232.99518105153717}"
      ]
     },
     "execution_count": 110,
     "metadata": {},
     "output_type": "execute_result"
    }
   ],
   "source": [
    "param_dict3 = {'C' : np.logspace(2, 5, 50)}\n",
    "\n",
    "model5 = GridSearchCV(LogisticRegression(random_state=42), param_grid=param_dict3, cv = 5, verbose=True, n_jobs=-1)\n",
    "model5.fit(M_train_text, m_y_train)\n",
    "print(model5.score(M_test_text, y_test))\n",
    "model5.best_params_"
   ]
  },
  {
   "cell_type": "markdown",
   "metadata": {},
   "source": [
    "Wykorzystaliśmy powyżej TF-IDF wyłącznie dla kolumny tekstu, połączmy ją tym razem z kolumną tytułów. Jak widać ilość cech minimalnie wzrosła."
   ]
  },
  {
   "cell_type": "code",
   "execution_count": 113,
   "metadata": {},
   "outputs": [
    {
     "data": {
      "text/plain": [
       "(4728, 49155)"
      ]
     },
     "execution_count": 113,
     "metadata": {},
     "output_type": "execute_result"
    }
   ],
   "source": [
    "vectorizer_lemma = TfidfVectorizer(stop_words='english')\n",
    "M_train_text_title = vectorizer_lemma.fit_transform(M_train['title_lemma'] + ' ' + M_train['text_lemma'])\n",
    "M_test_text_title = vectorizer_lemma.transform(M_test['title_lemma'] + ' ' + M_test['text_lemma'])\n",
    "M_train_text_title.shape"
   ]
  },
  {
   "cell_type": "markdown",
   "metadata": {},
   "source": [
    "Uzyskujemy jednak trochę wyższy wynik. Jak do tej pory jest to drugi najlepszy wynik bez wykorzystana kolumny 'Unnamed: 0'. Różni się od wyniku modelu1 (próbnego) w rzędzie tysięcznych posiadając przy tym prawie 15 tysięcy mniej kolumn."
   ]
  },
  {
   "cell_type": "code",
   "execution_count": 114,
   "metadata": {},
   "outputs": [
    {
     "name": "stdout",
     "output_type": "stream",
     "text": [
      "Fitting 5 folds for each of 100 candidates, totalling 500 fits\n"
     ]
    },
    {
     "name": "stderr",
     "output_type": "stream",
     "text": [
      "[Parallel(n_jobs=-1)]: Using backend LokyBackend with 8 concurrent workers.\n",
      "[Parallel(n_jobs=-1)]: Done  34 tasks      | elapsed:    6.2s\n",
      "[Parallel(n_jobs=-1)]: Done 184 tasks      | elapsed:   35.3s\n",
      "[Parallel(n_jobs=-1)]: Done 434 tasks      | elapsed:  1.6min\n",
      "[Parallel(n_jobs=-1)]: Done 500 out of 500 | elapsed:  1.8min finished\n"
     ]
    },
    {
     "name": "stdout",
     "output_type": "stream",
     "text": [
      "0.9362373737373737\n"
     ]
    },
    {
     "data": {
      "text/plain": [
       "{'C': 4977.023564332114}"
      ]
     },
     "execution_count": 114,
     "metadata": {},
     "output_type": "execute_result"
    }
   ],
   "source": [
    "param_dict4 = {'C' : np.logspace(2, 6, 100)}\n",
    "\n",
    "model6 = GridSearchCV(LogisticRegression(random_state=42), param_grid=param_dict4, cv = 5, verbose=True, n_jobs=-1)\n",
    "model6.fit(M_train_text_title, m_y_train)\n",
    "print(model6.score(M_test_text_title, y_test))\n",
    "model6.best_params_"
   ]
  },
  {
   "cell_type": "markdown",
   "metadata": {},
   "source": [
    "##  Zachowanie wyłącznie cech nienumerycznych"
   ]
  },
  {
   "cell_type": "markdown",
   "metadata": {},
   "source": [
    "Jednym z procesów oczyszczających tekst jest usuniecię znaków numerycznych. Oprócz tego przy procesie lemmatyzacji uzyskujemy z zaimków osobowych 'I', 'You' itd. słowo '-PRON-', jego również się pozbędziemy."
   ]
  },
  {
   "cell_type": "code",
   "execution_count": 115,
   "metadata": {},
   "outputs": [],
   "source": [
    "def lemmatization_walpha(df):\n",
    "    x = df.split(' ')\n",
    "    return ' '.join([lemma for lemma in x if lemma.isalpha() or lemma == '-PRON-'])\n",
    "M_train['text_lemma_walpha'] = M_train.text_lemma.apply(lambda row:lemmatization_walpha(row))\n",
    "M_train['title_lemma_walpha'] = M_train.title_lemma.apply(lambda row:lemmatization_walpha(row))\n",
    "M_test['text_lemma_walpha'] = M_test.text_lemma.apply(lambda row:lemmatization_walpha(row))\n",
    "M_test['title_lemma_walpha'] = M_test.title_lemma.apply(lambda row:lemmatization_walpha(row))"
   ]
  },
  {
   "cell_type": "code",
   "execution_count": 116,
   "metadata": {},
   "outputs": [
    {
     "data": {
      "text/plain": [
       "(4728, 45105)"
      ]
     },
     "execution_count": 116,
     "metadata": {},
     "output_type": "execute_result"
    }
   ],
   "source": [
    "vectorizer_lemma_2 = TfidfVectorizer(stop_words='english')\n",
    "M_train_text_2 = vectorizer_lemma_2.fit_transform(M_train['text_lemma_walpha'])\n",
    "M_test_text_2 = vectorizer_lemma_2.transform(M_test['text_lemma_walpha'])\n",
    "M_train_text_2.shape"
   ]
  },
  {
   "cell_type": "markdown",
   "metadata": {},
   "source": [
    "Ponownie zredukowaliśmy wymiar o 4 tysiące kolumn. Zobaczmy jak to wpłynie na zachowanie modelu."
   ]
  },
  {
   "cell_type": "code",
   "execution_count": 149,
   "metadata": {},
   "outputs": [
    {
     "name": "stdout",
     "output_type": "stream",
     "text": [
      "Fitting 5 folds for each of 50 candidates, totalling 250 fits\n"
     ]
    },
    {
     "name": "stderr",
     "output_type": "stream",
     "text": [
      "[Parallel(n_jobs=-1)]: Using backend LokyBackend with 8 concurrent workers.\n",
      "[Parallel(n_jobs=-1)]: Done  34 tasks      | elapsed:    6.0s\n",
      "[Parallel(n_jobs=-1)]: Done 184 tasks      | elapsed:   33.7s\n",
      "[Parallel(n_jobs=-1)]: Done 250 out of 250 | elapsed:   46.3s finished\n"
     ]
    },
    {
     "name": "stdout",
     "output_type": "stream",
     "text": [
      "0.9318181818181818\n"
     ]
    },
    {
     "data": {
      "text/plain": [
       "{'C': 19.144819761699537, 'penalty': 'l2', 'solver': 'liblinear'}"
      ]
     },
     "execution_count": 149,
     "metadata": {},
     "output_type": "execute_result"
    }
   ],
   "source": [
    "param_dict1 = {'C' : np.logspace(2, 5, 50)}\n",
    "\n",
    "model7 = GridSearchCV(LogisticRegression(random_state=42), param_grid=param_dict1, cv = 5, verbose=True, n_jobs=-1)\n",
    "model7.fit(M_train_text_2, m_y_train)\n",
    "print(model7.score(M_test_text_2, y_test))\n",
    "model.best_params_"
   ]
  },
  {
   "cell_type": "markdown",
   "metadata": {},
   "source": [
    "Wynik jest gorszy, lecz w porównaniu z tym ile kolumn zostało odrzuconych nie wydaje się to znaczną różnicą. Tym razem wykorzystajmy również kolumne 'title_lemma'."
   ]
  },
  {
   "cell_type": "code",
   "execution_count": 118,
   "metadata": {},
   "outputs": [
    {
     "data": {
      "text/plain": [
       "(4728, 45488)"
      ]
     },
     "execution_count": 118,
     "metadata": {},
     "output_type": "execute_result"
    }
   ],
   "source": [
    "vectorizer_lemma_2 = TfidfVectorizer(stop_words='english')\n",
    "M_train_text_title_2 = vectorizer_lemma_2.fit_transform(M_train['title_lemma_walpha'] + ' ' + M_train['text_lemma_walpha'])\n",
    "M_test_text_title_2 = vectorizer_lemma_2.transform(M_test['title_lemma_walpha'] + ' ' + M_test['text_lemma_walpha'])\n",
    "M_train_text_title_2.shape"
   ]
  },
  {
   "cell_type": "markdown",
   "metadata": {},
   "source": [
    "Niestety jednak tym razem ta operacja pogorszyła wynik."
   ]
  },
  {
   "cell_type": "code",
   "execution_count": 119,
   "metadata": {},
   "outputs": [
    {
     "name": "stdout",
     "output_type": "stream",
     "text": [
      "Fitting 5 folds for each of 100 candidates, totalling 500 fits\n"
     ]
    },
    {
     "name": "stderr",
     "output_type": "stream",
     "text": [
      "[Parallel(n_jobs=-1)]: Using backend LokyBackend with 8 concurrent workers.\n",
      "[Parallel(n_jobs=-1)]: Done  34 tasks      | elapsed:    6.7s\n",
      "[Parallel(n_jobs=-1)]: Done 184 tasks      | elapsed:   35.4s\n",
      "[Parallel(n_jobs=-1)]: Done 434 tasks      | elapsed:  1.4min\n",
      "[Parallel(n_jobs=-1)]: Done 500 out of 500 | elapsed:  1.7min finished\n"
     ]
    },
    {
     "data": {
      "text/plain": [
       "0.9292929292929293"
      ]
     },
     "execution_count": 119,
     "metadata": {},
     "output_type": "execute_result"
    }
   ],
   "source": [
    "model8 = GridSearchCV(LogisticRegression(random_state=42), param_grid=param_dict4, cv = 5, verbose=True, n_jobs=-1)\n",
    "model8.fit(M_train_text_title_2, m_y_train)\n",
    "model8.score(M_test_text_title_2, y_test)"
   ]
  },
  {
   "cell_type": "markdown",
   "metadata": {},
   "source": [
    "##  Podsumowanie"
   ]
  },
  {
   "cell_type": "markdown",
   "metadata": {},
   "source": [
    "Jak widać do tej pory najlepiej sprawował się model1 z wynikiem accuracy $\\approx$ 94%. Przypomnijmy, że skorzystaliśmy tu z algorytmu TF-IDF na kolumnie tekstu. Zobaczmy jak prezentują się inne metryki."
   ]
  },
  {
   "cell_type": "code",
   "execution_count": 148,
   "metadata": {},
   "outputs": [
    {
     "name": "stdout",
     "output_type": "stream",
     "text": [
      "              precision    recall  f1-score   support\n",
      "\n",
      "        FAKE       0.93      0.95      0.94       794\n",
      "        REAL       0.95      0.92      0.94       790\n",
      "\n",
      "    accuracy                           0.94      1584\n",
      "   macro avg       0.94      0.94      0.94      1584\n",
      "weighted avg       0.94      0.94      0.94      1584\n",
      "\n"
     ]
    }
   ],
   "source": [
    "preds = model1.predict(X_test_tf_try)\n",
    "print(classification_report(y_test_try, preds))"
   ]
  },
  {
   "cell_type": "markdown",
   "metadata": {},
   "source": [
    "Jak widać pozotałe metryki są również w normie, a nawet są większe od dokładności. Zestawiając wyniki z drugim co do dokładności modelem (model6), gdzie użyto tokenizacji, lemmatyzacji i TF-IDF wyniki precision i recall są bardzo podobne. Warto jednak zwrócić uwagę na znaczną redukcję wymiarowości. "
   ]
  },
  {
   "cell_type": "code",
   "execution_count": 147,
   "metadata": {},
   "outputs": [
    {
     "name": "stdout",
     "output_type": "stream",
     "text": [
      "              precision    recall  f1-score   support\n",
      "\n",
      "        FAKE       0.93      0.94      0.94       794\n",
      "        REAL       0.94      0.93      0.94       790\n",
      "\n",
      "    accuracy                           0.94      1584\n",
      "   macro avg       0.94      0.94      0.94      1584\n",
      "weighted avg       0.94      0.94      0.94      1584\n",
      "\n"
     ]
    }
   ],
   "source": [
    "preds = model6.predict(M_test_text_title)\n",
    "print(classification_report(y_test, preds))"
   ]
  },
  {
   "cell_type": "markdown",
   "metadata": {},
   "source": [
    "Podsumowując, gdybyśmy dysponowali wyłącznie tekstem jak i tytułem, to nasz model prezentowałby się jak jeden z powyżej. Wybór odpowiedniego zależałby pewnie od aktualnych potrzeb. Możliwe, że komuś bardziej by zależało na scoringu, a komuś innemu natomiast na optymalizacji pamięci i złożoności obliczeniowej. Oba modele moim zdaniem uzyskały wysoki wynik, zwłaszcza przy takim nakładzie pracy włożonym w ich zaprogramowanie. Myślę, że powyższe algorytmy sprawdziłyby się lepiej w rozpoznaniu oszustwa niż człowiek, a przede wszystkim zautomatyzowałyby ten proces. Gdybyśmy dodatkowo dysponowali identyfikatorem danym w zbiorze danych, to dużo mniejszym kosztem jesteśmy w 100% podać czy dana wiadomość jest lub nie jest fałszywa."
   ]
  }
 ],
 "metadata": {
  "kernelspec": {
   "display_name": "Python 3",
   "language": "python",
   "name": "python3"
  },
  "language_info": {
   "codemirror_mode": {
    "name": "ipython",
    "version": 3
   },
   "file_extension": ".py",
   "mimetype": "text/x-python",
   "name": "python",
   "nbconvert_exporter": "python",
   "pygments_lexer": "ipython3",
   "version": "3.7.4"
  },
  "toc": {
   "base_numbering": 1,
   "nav_menu": {},
   "number_sections": true,
   "sideBar": true,
   "skip_h1_title": false,
   "title_cell": "Table of Contents",
   "title_sidebar": "Contents",
   "toc_cell": false,
   "toc_position": {},
   "toc_section_display": true,
   "toc_window_display": false
  },
  "varInspector": {
   "cols": {
    "lenName": 16,
    "lenType": 16,
    "lenVar": 40
   },
   "kernels_config": {
    "python": {
     "delete_cmd_postfix": "",
     "delete_cmd_prefix": "del ",
     "library": "var_list.py",
     "varRefreshCmd": "print(var_dic_list())"
    },
    "r": {
     "delete_cmd_postfix": ") ",
     "delete_cmd_prefix": "rm(",
     "library": "var_list.r",
     "varRefreshCmd": "cat(var_dic_list()) "
    }
   },
   "types_to_exclude": [
    "module",
    "function",
    "builtin_function_or_method",
    "instance",
    "_Feature"
   ],
   "window_display": false
  }
 },
 "nbformat": 4,
 "nbformat_minor": 2
}
